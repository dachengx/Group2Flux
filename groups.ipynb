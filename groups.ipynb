{
 "cells": [
  {
   "cell_type": "code",
   "execution_count": 1,
   "id": "40652dda-d7c8-46c0-8663-852343cdb9dd",
   "metadata": {},
   "outputs": [],
   "source": [
    "import numpy as np\n",
    "\n",
    "import matplotlib\n",
    "import matplotlib.pyplot as plt\n",
    "import matplotlib.patches as patches\n",
    "import matplotlib.patches as mpatches\n",
    "from matplotlib.colors import LogNorm\n",
    "from matplotlib import gridspec\n",
    "from scipy.optimize import minimize_scalar\n",
    "\n",
    "matplotlib.use('Agg')\n",
    "\n",
    "matplotlib.style.use('default')\n",
    "plt.rcParams['savefig.dpi'] = 200\n",
    "plt.rcParams['figure.dpi'] = 100\n",
    "plt.rcParams['font.size'] = 20\n",
    "plt.rcParams['lines.markersize'] = 9.0\n",
    "plt.rcParams['lines.linewidth'] = 2.0\n",
    "plt.rcParams['axes.unicode_minus'] = False\n",
    "plt.rcParams['legend.fontsize'] = 15\n",
    "plt.rcParams['legend.title_fontsize'] = 15\n",
    "plt.rcParams['xtick.labelsize'] = 20\n",
    "plt.rcParams['ytick.labelsize'] = 20\n",
    "plt.rcParams['axes.labelsize'] = 20\n",
    "plt.rcParams['axes.titlesize'] = 20\n",
    "plt.rc('text', usetex=True)\n",
    "plt.rc('text.latex', preamble=r'\\usepackage[detect-all,locale=DE]{siunitx}')\n",
    "\n",
    "%matplotlib inline"
   ]
  },
  {
   "cell_type": "markdown",
   "id": "cdb71fc5-7758-440c-83cc-89f650eb3051",
   "metadata": {},
   "source": [
    "# Load constants"
   ]
  },
  {
   "cell_type": "code",
   "execution_count": 2,
   "id": "d0c4d612-2dc3-44eb-b30b-3bf271e6d4e9",
   "metadata": {},
   "outputs": [],
   "source": [
    "nu_Sigma_fc_1 = 0.008476  # cm^-1\n",
    "nu_Sigma_fc_2 = 0.18514\n",
    "# Sigma_fc_1 = 0.003320\n",
    "# Sigma_fc_2 = 0.07537\n",
    "Sigma_ac_1 = 0.01207\n",
    "Sigma_ac_2 = Sigma_rc_2 = 0.1210\n",
    "Dc_1 = 1.2627  # cm\n",
    "Dc_2 = 0.3543\n",
    "Sigma_rc_1 = 0.02619\n",
    "Sigma_sc_12 = Sigma_rc_1 - Sigma_ac_1\n",
    "\n",
    "Dr_1 = 1.13\n",
    "Dr_2 = 0.16\n",
    "Sigma_rr_1 = 0.0494\n",
    "Sigma_ar_1 = 0.0004\n",
    "Sigma_ar_2 = 0.0197\n",
    "Sigma_sr_12 = Sigma_rr_1 - Sigma_ar_1"
   ]
  },
  {
   "cell_type": "markdown",
   "id": "c472c2e6-6e63-47a8-9feb-58067c7c8ef0",
   "metadata": {},
   "source": [
    "# Define matrix"
   ]
  },
  {
   "cell_type": "code",
   "execution_count": 3,
   "id": "0d062c85-5bd6-45e6-87f8-97284cd79795",
   "metadata": {},
   "outputs": [],
   "source": [
    "k_eff = 1"
   ]
  },
  {
   "cell_type": "code",
   "execution_count": 4,
   "id": "1f3741e8-f686-44a8-8cc7-7837b8ee299f",
   "metadata": {},
   "outputs": [],
   "source": [
    "Am = np.array([[(nu_Sigma_fc_1 / k_eff - Sigma_rc_1) / Dc_1, nu_Sigma_fc_2 / k_eff / Dc_1], \n",
    "              [Sigma_sc_12 / Dc_2, -Sigma_ac_2 / Dc_2]])"
   ]
  },
  {
   "cell_type": "code",
   "execution_count": 5,
   "id": "ac2563f3-c85f-4ab8-a3d2-871977494bd2",
   "metadata": {},
   "outputs": [],
   "source": [
    "L2 = Dc_2 / Sigma_ac_2\n",
    "tau = Dc_1 / (Sigma_rc_1 - nu_Sigma_fc_1 / k_eff)\n",
    "k_p = (nu_Sigma_fc_1 + nu_Sigma_fc_2 * Sigma_sc_12 / Sigma_ac_2) / Sigma_rc_1\n",
    "delta = (k_p - nu_Sigma_fc_1 / Sigma_rc_1) / (k_eff - nu_Sigma_fc_1 / Sigma_rc_1)"
   ]
  },
  {
   "cell_type": "code",
   "execution_count": 6,
   "id": "647026fb-cb3f-4f5d-aa9d-e2eaadca0ad1",
   "metadata": {},
   "outputs": [],
   "source": [
    "harm_Lt = 1 / L2 + 1 / tau\n",
    "mu2 = 0.5 * (-(harm_Lt) + np.sqrt(harm_Lt ** 2 + 4 * (delta - 1) / tau / L2))\n",
    "mu = np.sqrt(mu2)\n",
    "nu2 = 0.5 * ((harm_Lt) + np.sqrt(harm_Lt ** 2 + 4 * (delta - 1) / tau / L2))\n",
    "nu= -np.sqrt(nu2)"
   ]
  },
  {
   "cell_type": "code",
   "execution_count": 7,
   "id": "a43605d9-5979-4e3a-a6e0-e1113f6562c2",
   "metadata": {},
   "outputs": [],
   "source": [
    "s1 = Sigma_sc_12 / Dc_2 / (mu2 + 1 / L2)\n",
    "s2 = Sigma_sc_12 / Dc_2 / (1 / L2 - nu2)\n",
    "\n",
    "alpha = 1 / np.sqrt(1 + s1 ** 2)\n",
    "beta = 1 / np.sqrt(1 + s2 ** 2)\n",
    "\n",
    "u1 = np.array([alpha, alpha * s1])\n",
    "u2 = np.array([beta, beta * s2])\n",
    "\n",
    "U = np.array([u1, u2]).T\n",
    "\n",
    "inv_U = np.linalg.inv(U)"
   ]
  },
  {
   "cell_type": "code",
   "execution_count": 8,
   "id": "51fbeba1-7b35-49ae-b77e-b45ce6e76edd",
   "metadata": {},
   "outputs": [],
   "source": [
    "mu2_p = Sigma_rr_1 / Dr_1\n",
    "mu_p = np.sqrt(mu2_p)\n",
    "nu2_p = Sigma_ar_2 / Dr_2\n",
    "nu_p = np.sqrt(nu2_p)\n",
    "ga2_p = Sigma_sr_12 / Dr_2\n",
    "c_p = ga2_p / (nu2_p - mu2_p)"
   ]
  },
  {
   "cell_type": "markdown",
   "id": "57514715-4da8-46a8-9f49-bba1d1f49576",
   "metadata": {},
   "source": [
    "# Fit L0"
   ]
  },
  {
   "cell_type": "code",
   "execution_count": 9,
   "id": "dbd70aa4-d2b3-4524-a7af-b08136dac3dc",
   "metadata": {},
   "outputs": [],
   "source": [
    "def M(L):\n",
    "    hL = L / 2\n",
    "    M = np.array([[alpha * np.cos(mu * hL), beta * np.exp(-nu * hL), \n",
    "                   -np.exp(-mu_p * hL), 0], \n",
    "                  [s1 * alpha * np.cos(mu * hL), s2 * beta * np.exp(-nu * hL), \n",
    "                   -c_p * np.exp(-mu_p * hL), -np.exp(-nu_p * hL)], \n",
    "                  [-Dc_1 * mu * alpha * np.sin(mu * hL), -Dc_1 * nu * beta * np.exp(-nu * hL), \n",
    "                   Dr_1 * mu_p * np.exp(-mu_p * hL), 0], \n",
    "                  [-Dc_2 * mu * s1 * alpha * np.sin(mu * hL), -Dc_2 * nu * s2 * beta * np.exp(-nu * hL), \n",
    "                   Dr_2 * mu_p * c_p * np.exp(-mu_p * hL), Dr_2 * nu_p * np.exp(-nu_p * hL)]])\n",
    "    return M\n",
    "\n",
    "def det_M(L):\n",
    "    return np.linalg.det(M(L))"
   ]
  },
  {
   "cell_type": "code",
   "execution_count": 10,
   "id": "aa5d94d4-8c88-4ab5-b125-95823b3402c3",
   "metadata": {},
   "outputs": [
    {
     "data": {
      "image/png": "[encoded data removed]",
      "text/plain": [
       "<Figure size 576x432 with 1 Axes>"
      ]
     },
     "metadata": {
      "needs_background": "light"
     },
     "output_type": "display_data"
    }
   ],
   "source": [
    "fig = plt.figure(figsize=(8, 6))\n",
    "# fig.tight_layout()\n",
    "gs = gridspec.GridSpec(1, 1, figure=fig, left=0.15, right=0.95, top=0.9, bottom=0.15, wspace=0.4, hspace=0.5)\n",
    "ax = fig.add_subplot(gs[0, 0])\n",
    "\n",
    "l = np.linspace(0, 50, 501)\n",
    "ax.plot(l, np.vectorize(det_M)(l), lw=3.)\n",
    "ax.axhline(0, color='r', linestyle='dashed', lw='1.')\n",
    "ax.set_xlabel(r'$L\\ [\\si{cm}]$')\n",
    "ax.set_ylabel(r'$\\mathrm{det}\\ M$')\n",
    "# ax.set_xlim(60, 150)\n",
    "# ax.set_ylim()\n",
    "# ax.set_yscale('log')\n",
    "ax.grid()\n",
    "# ax.legend(loc='upper right', prop={'size': 20})\n",
    "\n",
    "fig.savefig('thesis/det_M_L.svg', transparent=True, dpi=800)\n",
    "\n",
    "plt.show()"
   ]
  },
  {
   "cell_type": "markdown",
   "id": "aeef1bce-dcde-417e-bb8e-9901055af32c",
   "metadata": {},
   "source": [
    "# Solve linear equations"
   ]
  },
  {
   "cell_type": "code",
   "execution_count": 11,
   "id": "d33e9d7c-7452-4766-96b1-f4f97402dd7a",
   "metadata": {},
   "outputs": [],
   "source": [
    "rst = minimize_scalar(lambda x: np.abs(det_M(x)), bounds=(20, 80), method='bounded')\n",
    "\n",
    "L0 = rst.x\n",
    "M0 = M(L0)\n",
    "\n",
    "A = 1\n",
    "\n",
    "B, A_p, B_p = A * np.linalg.inv(M0[1:, 1:]).dot(-M0[1:, 0])"
   ]
  },
  {
   "cell_type": "code",
   "execution_count": 12,
   "id": "e600350e-a8b0-4aa0-8644-467e637fbb8c",
   "metadata": {},
   "outputs": [],
   "source": [
    "def varphi_1(x):\n",
    "    return A * np.cos(mu * x)\n",
    "\n",
    "def varphi_2(x):\n",
    "    return B * np.exp(-nu * x)\n",
    "\n",
    "def phi_12(x):\n",
    "    return U.dot(np.array([varphi_1(x), varphi_2(x)]))\n",
    "\n",
    "def phi_12_p(x):\n",
    "    varphi_1_p = A_p * np.exp(-mu_p * x)\n",
    "    varphi_2_p = c_p * A_p * np.exp(-mu_p * x) + B_p * np.exp(-nu_p * x)\n",
    "    return np.array([varphi_1_p, varphi_2_p])\n",
    "\n",
    "def phi_1(x):\n",
    "    return np.where(x < L0 / 2, phi_12(x)[0], phi_12_p(x)[0])\n",
    "\n",
    "def phi_2(x):\n",
    "    return np.where(x < L0 / 2, phi_12(x)[1], phi_12_p(x)[1])"
   ]
  },
  {
   "cell_type": "code",
   "execution_count": 13,
   "id": "52fb3f86-61a1-4af7-af9d-a7a2ee68320d",
   "metadata": {},
   "outputs": [
    {
     "data": {
      "image/png": "[encoded data removed]",
      "text/plain": [
       "<Figure size 576x432 with 1 Axes>"
      ]
     },
     "metadata": {
      "needs_background": "light"
     },
     "output_type": "display_data"
    }
   ],
   "source": [
    "fig = plt.figure(figsize=(8, 6))\n",
    "# fig.tight_layout()\n",
    "gs = gridspec.GridSpec(1, 1, figure=fig, left=0.15, right=0.95, top=0.9, bottom=0.15, wspace=0.4, hspace=0.5)\n",
    "ax = fig.add_subplot(gs[0, 0])\n",
    "\n",
    "l = np.linspace(0, L0 * 1.5, 501)\n",
    "ax.axvline(L0 / 2, color='r', linestyle='dashed', label=r'$L_0$')\n",
    "ax.plot(l, np.vectorize(phi_1)(l), '-.', lw=3., label=r'$\\mathrm{Fast\\ group}$')\n",
    "ax.plot(l, np.vectorize(phi_2)(l), '-', lw=3., label=r'$\\mathrm{Thermal\\ group}$')\n",
    "# ax.axhline(0, color='r')\n",
    "ax.set_xlabel(r'$L\\ [\\si{cm}]$')\n",
    "ax.set_ylabel(r'$\\mathrm{Relative\\ flux}$')\n",
    "ax.set_xlim(l[0], l[-1])\n",
    "# ax.set_ylim()\n",
    "# ax.set_yscale('log')\n",
    "ax.grid()\n",
    "ax.legend(loc='upper right', prop={'size': 20})\n",
    "\n",
    "fig.savefig('thesis/flux_L.svg', transparent=True, dpi=800)\n",
    "\n",
    "plt.show()"
   ]
  }
 ],
 "metadata": {
  "kernelspec": {
   "display_name": "Python 3 (ipykernel)",
   "language": "python",
   "name": "python3"
  },
  "language_info": {
   "codemirror_mode": {
    "name": "ipython",
    "version": 3
   },
   "file_extension": ".py",
   "mimetype": "text/x-python",
   "name": "python",
   "nbconvert_exporter": "python",
   "pygments_lexer": "ipython3",
   "version": "3.10.4"
  }
 },
 "nbformat": 4,
 "nbformat_minor": 5
}
